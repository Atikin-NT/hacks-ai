{
 "cells": [
  {
   "cell_type": "code",
   "execution_count": 1,
   "metadata": {},
   "outputs": [],
   "source": [
    "import random\n",
    "import numpy as np\n",
    "from deap import base, creator, tools, algorithms\n",
    "import networkx as nx"
   ]
  },
  {
   "cell_type": "code",
   "execution_count": 2,
   "metadata": {},
   "outputs": [],
   "source": [
    "stations = ['A', 'B', 'C', 'D', 'E', 'S1', 'S2']\n",
    "transitions = {\n",
    "    'S1': ['A', 'B', 'C'],\n",
    "    'S2': ['A', 'B', 'C', 'D', 'E']\n",
    "}"
   ]
  },
  {
   "cell_type": "code",
   "execution_count": 3,
   "metadata": {},
   "outputs": [],
   "source": [
    "G = nx.Graph()\n",
    "\n",
    "for key, value in transitions.items():\n",
    "    for val in value:\n",
    "        G.add_edge(key, val)"
   ]
  },
  {
   "cell_type": "code",
   "execution_count": 4,
   "metadata": {},
   "outputs": [
    {
     "data": {
      "text/plain": [
       "{'S1': Text(-0.7017608099990026, -0.49296992287187025, 'S1'),\n",
       " 'A': Text(-0.6182501822804963, 0.19171727194767452, 'A'),\n",
       " 'B': Text(-0.03421880820305773, -0.6497085118622301, 'B'),\n",
       " 'C': Text(-0.2921951431132157, -0.21171547185568487, 'C'),\n",
       " 'S2': Text(0.19872308768631777, 0.13638949150490362, 'S2'),\n",
       " 'D': Text(0.9999999999999999, 0.12858750924647702, 'D'),\n",
       " 'E': Text(0.447701855909455, 0.8976996338907296, 'E')}"
      ]
     },
     "execution_count": 4,
     "metadata": {},
     "output_type": "execute_result"
    },
    {
     "data": {
      "image/png": "[encoded data removed]",
      "text/plain": [
       "<Figure size 640x480 with 1 Axes>"
      ]
     },
     "metadata": {},
     "output_type": "display_data"
    }
   ],
   "source": [
    "pos = nx.spring_layout(G, seed=1)\n",
    "nx.draw_networkx_nodes(G, pos, node_size=700)\n",
    "nx.draw_networkx_edges(G, pos, width=5)\n",
    "nx.draw_networkx_labels(G, pos, font_size=20, font_family=\"sans-serif\")"
   ]
  },
  {
   "cell_type": "code",
   "execution_count": 12,
   "metadata": {},
   "outputs": [],
   "source": [
    "vagon_type = ['A', 'B', 'C']\n",
    "lacomotive_type = ['S1', 'S2']\n",
    "\n",
    "vagon_list = [\n",
    "    {\n",
    "        'st': 'A',\n",
    "        'type': 'A',\n",
    "    },\n",
    "    {\n",
    "        'st': 'A',\n",
    "        'type': 'B',\n",
    "    },\n",
    "    {\n",
    "        'st': 'A',\n",
    "        'type': 'A',\n",
    "    },\n",
    "    {\n",
    "        'st': 'A',\n",
    "        'type': 'B',\n",
    "    },\n",
    "    {\n",
    "        'st': 'A',\n",
    "        'type': 'B',\n",
    "    },\n",
    "    {\n",
    "        'st': 'A',\n",
    "        'type': 'A',\n",
    "    },\n",
    "    {\n",
    "        'st': 'B',\n",
    "        'type': 'B',\n",
    "    },\n",
    "    {\n",
    "        'st': 'B',\n",
    "        'type': 'C',\n",
    "    },\n",
    "    {\n",
    "        'st': 'B',\n",
    "        'type': 'B',\n",
    "    },\n",
    "    {\n",
    "        'st': 'C',\n",
    "        'type': 'A',\n",
    "    },\n",
    "    {\n",
    "        'st': 'C',\n",
    "        'type': 'B',\n",
    "    },\n",
    "    {\n",
    "        'st': 'C',\n",
    "        'type': 'B',\n",
    "    },\n",
    "    {\n",
    "        'st': 'D',\n",
    "        'type': 'A',\n",
    "    },\n",
    "    {\n",
    "        'st': 'D',\n",
    "        'type': 'B',\n",
    "    },\n",
    "    {\n",
    "        'st': 'E',\n",
    "        'type': 'B',\n",
    "    },\n",
    "    {\n",
    "        'st': 'E',\n",
    "        'type': 'A',\n",
    "    },\n",
    "    {\n",
    "        'st': 'E',\n",
    "        'type': 'A',\n",
    "    },\n",
    "]"
   ]
  },
  {
   "cell_type": "code",
   "execution_count": 6,
   "metadata": {},
   "outputs": [],
   "source": [
    "# 0 - простой\n",
    "# 1 - перевести на другую ветку\n",
    "# 2 - присоединить вагон\n",
    "# 3 - отсоединить вагон\n",
    "\n",
    "operations_cost = [10, 15, 2, 2]"
   ]
  },
  {
   "cell_type": "code",
   "execution_count": 10,
   "metadata": {},
   "outputs": [],
   "source": [
    "VAGON_COUNT = 17\n",
    "MAX_OPERATIONS = 20\n",
    "LENGTH_CHROM = VAGON_COUNT * MAX_OPERATIONS     # длина хромосомы, подлежащей оптимизации\n",
    "TRAIN_LIVE_TIME = {\n",
    "    'S1': 5,\n",
    "    'S2': 10\n",
    "}\n",
    " \n",
    "# константы генетического алгоритма\n",
    "POPULATION_SIZE = 500   # количество индивидуумов в популяции\n",
    "P_CROSSOVER = 0.9       # вероятность скрещивания\n",
    "P_MUTATION = 0.1        # вероятность мутации индивидуума\n",
    "MAX_GENERATIONS = 30    # максимальное количество поколений"
   ]
  },
  {
   "cell_type": "code",
   "execution_count": 8,
   "metadata": {},
   "outputs": [],
   "source": [
    "RANDOM_SEED = 0\n",
    "random.seed(RANDOM_SEED)"
   ]
  },
  {
   "cell_type": "code",
   "execution_count": 9,
   "metadata": {},
   "outputs": [],
   "source": [
    "creator.create(\"FitnessMin\", base.Fitness, weights=(-1.0,))\n",
    "creator.create(\"Individual\", list, fitness=creator.FitnessMin)"
   ]
  },
  {
   "cell_type": "code",
   "execution_count": 13,
   "metadata": {},
   "outputs": [],
   "source": [
    "def create_random_list(max_range, count):\n",
    "    operations_count = random.randint(1, count)\n",
    "    r = []\n",
    "    for _ in range(count):\n",
    "        if operations_count > 0:\n",
    "            new_oper = random.randint(0, max_range)\n",
    "            if new_oper == 1:\n",
    "                state = random.choice(['A', 'B', 'C', 'D', 'E', 'S1', 'S2'])\n",
    "                r.append({f'{new_oper}': state})\n",
    "            else:\n",
    "                r.append({f'{new_oper}': None})\n",
    "        else:\n",
    "            r.append({'0': None})\n",
    "        operations_count -= 1\n",
    "    return r"
   ]
  },
  {
   "cell_type": "code",
   "execution_count": 11,
   "metadata": {},
   "outputs": [
    {
     "data": {
      "text/plain": [
       "[{'3': None},\n",
       " {'0': None},\n",
       " {'2': None},\n",
       " {'4': None},\n",
       " {'3': None},\n",
       " {'3': None},\n",
       " {'2': None},\n",
       " {'3': None},\n",
       " {'2': None},\n",
       " {'4': None},\n",
       " {'1': 'E'},\n",
       " {'1': 'C'},\n",
       " {'1': 'S2'},\n",
       " {'0': None},\n",
       " {'0': None},\n",
       " {'0': None},\n",
       " {'0': None},\n",
       " {'0': None},\n",
       " {'0': None},\n",
       " {'0': None}]"
      ]
     },
     "execution_count": 11,
     "metadata": {},
     "output_type": "execute_result"
    }
   ],
   "source": [
    "create_random_list(4, 20)"
   ]
  },
  {
   "cell_type": "code",
   "execution_count": 14,
   "metadata": {},
   "outputs": [],
   "source": [
    "toolbox = base.Toolbox()\n",
    "toolbox.register(\"randomOper\", create_random_list, len(operations_cost) - 1, MAX_OPERATIONS)\n",
    "toolbox.register(\"individualCreator\", tools.initRepeat, creator.Individual, toolbox.randomOper, len(vagon_list))\n",
    "toolbox.register(\"populationCreator\", tools.initRepeat, list, toolbox.individualCreator)"
   ]
  },
  {
   "cell_type": "code",
   "execution_count": 15,
   "metadata": {},
   "outputs": [],
   "source": [
    "population = toolbox.populationCreator(n=POPULATION_SIZE)"
   ]
  },
  {
   "cell_type": "code",
   "execution_count": 16,
   "metadata": {},
   "outputs": [],
   "source": [
    "def shedule_cost(individual):\n",
    "    current_cost = 0\n",
    "    for vagon_id in range(len(individual)):\n",
    "        for curr_vagon in individual[vagon_id]:\n",
    "            is_in_lacomotive = True if vagon_list[vagon_id]['st'] in ['S1', 'S2'] else False\n",
    "            for key, val in curr_vagon.items():\n",
    "                if key == '0' and is_in_lacomotive:\n",
    "                    current_cost += 0\n",
    "                else:\n",
    "                    current_cost += operations_cost[int(key)]\n",
    "    return current_cost,"
   ]
  },
  {
   "cell_type": "code",
   "execution_count": 17,
   "metadata": {},
   "outputs": [],
   "source": [
    "def mate(ind1, ind2):\n",
    "    \n",
    "    ind1[:(VAGON_COUNT//2)], ind2[:(VAGON_COUNT//2)] = ind2[:(VAGON_COUNT//2)], ind1[:(VAGON_COUNT//2)]\n",
    "    return ind1, ind2"
   ]
  },
  {
   "cell_type": "code",
   "execution_count": 18,
   "metadata": {},
   "outputs": [],
   "source": [
    "def mut(individual, indpb):\n",
    "    for ind in individual:\n",
    "        tools.mutShuffleIndexes(ind, indpb)\n",
    " \n",
    "    return individual,"
   ]
  },
  {
   "cell_type": "code",
   "execution_count": 21,
   "metadata": {},
   "outputs": [],
   "source": [
    "toolbox.register(\"evaluate\", shedule_cost)\n",
    "toolbox.register(\"select\", tools.selTournament, tournsize=3)\n",
    "toolbox.register(\"mate\", mate)\n",
    "toolbox.register(\"mutate\", mut, indpb=1.0/LENGTH_CHROM/10)"
   ]
  },
  {
   "cell_type": "code",
   "execution_count": 22,
   "metadata": {},
   "outputs": [],
   "source": [
    "stats = tools.Statistics(lambda ind: ind.fitness.values)\n",
    "stats.register(\"min\", np.min)\n",
    "stats.register(\"avg\", np.mean)"
   ]
  },
  {
   "cell_type": "code",
   "execution_count": 23,
   "metadata": {},
   "outputs": [
    {
     "name": "stdout",
     "output_type": "stream",
     "text": [
      "gen\tnevals\tmin \tavg    \n",
      "0  \t500   \t2621\t2912.31\n",
      "1  \t31    \t2621\t2841.24\n",
      "2  \t26    \t2621\t2782.51\n",
      "3  \t27    \t2621\t2734.15\n",
      "4  \t24    \t2621\t2700.28\n",
      "5  \t36    \t2606\t2673.7 \n",
      "6  \t31    \t2606\t2643.99\n",
      "7  \t25    \t2606\t2623.11\n",
      "8  \t22    \t2606\t2616.92\n",
      "9  \t24    \t2606\t2611.97\n",
      "10 \t32    \t2606\t2608.09\n",
      "11 \t22    \t2606\t2607.17\n",
      "12 \t31    \t2606\t2606.43\n",
      "13 \t28    \t2606\t2606.02\n",
      "14 \t30    \t2606\t2606   \n",
      "15 \t42    \t2606\t2606   \n",
      "16 \t32    \t2606\t2606   \n",
      "17 \t26    \t2606\t2606   \n",
      "18 \t22    \t2606\t2606   \n",
      "19 \t26    \t2606\t2606   \n",
      "20 \t41    \t2606\t2606   \n",
      "21 \t35    \t2606\t2606   \n",
      "22 \t43    \t2606\t2606   \n",
      "23 \t22    \t2606\t2606   \n",
      "24 \t20    \t2606\t2606   \n",
      "25 \t29    \t2606\t2606   \n",
      "26 \t38    \t2606\t2606   \n",
      "27 \t39    \t2606\t2606   \n",
      "28 \t36    \t2606\t2606   \n",
      "29 \t25    \t2606\t2606   \n",
      "30 \t22    \t2606\t2606   \n"
     ]
    }
   ],
   "source": [
    "population, logbook = algorithms.eaSimple(population, toolbox,\n",
    "                                        cxpb=P_CROSSOVER/VAGON_COUNT,\n",
    "                                        mutpb=P_MUTATION/VAGON_COUNT,\n",
    "                                        ngen=MAX_GENERATIONS,\n",
    "                                        stats=stats,\n",
    "                                        verbose=True)"
   ]
  },
  {
   "cell_type": "code",
   "execution_count": 24,
   "metadata": {},
   "outputs": [],
   "source": [
    "maxFitnessValues, meanFitnessValues = logbook.select(\"min\", \"avg\")"
   ]
  },
  {
   "cell_type": "code",
   "execution_count": 25,
   "metadata": {},
   "outputs": [
    {
     "data": {
      "image/png": "[encoded data removed]",
      "text/plain": [
       "<Figure size 640x480 with 1 Axes>"
      ]
     },
     "metadata": {},
     "output_type": "display_data"
    }
   ],
   "source": [
    "import matplotlib.pyplot as plt\n",
    "\n",
    "plt.plot(maxFitnessValues, color='red')\n",
    "plt.plot(meanFitnessValues, color='green')\n",
    "plt.xlabel('Поколение')\n",
    "plt.ylabel('Макс/средняя приспособленность')\n",
    "plt.title('Зависимость максимальной и средней приспособленности от поколения')\n",
    " \n",
    "plt.show()"
   ]
  },
  {
   "cell_type": "code",
   "execution_count": 26,
   "metadata": {},
   "outputs": [
    {
     "name": "stdout",
     "output_type": "stream",
     "text": [
      "[{'3': None}, {'2': None}, {'3': None}, {'1': 'D'}, {'0': None}, {'2': None}, {'2': None}, {'3': None}, {'2': None}, {'1': 'D'}, {'1': 'B'}, {'0': None}, {'1': 'D'}, {'0': None}, {'2': None}, {'2': None}, {'1': 'B'}, {'0': None}, {'2': None}, {'0': None}]\n",
      "[{'3': None}, {'2': None}, {'0': None}, {'3': None}, {'0': None}, {'0': None}, {'3': None}, {'3': None}, {'0': None}, {'1': 'A'}, {'1': 'S2'}, {'1': 'B'}, {'3': None}, {'0': None}, {'0': None}, {'0': None}, {'0': None}, {'0': None}, {'0': None}, {'0': None}]\n",
      "[{'3': None}, {'0': None}, {'2': None}, {'2': None}, {'1': 'A'}, {'3': None}, {'3': None}, {'0': None}, {'1': 'S2'}, {'2': None}, {'3': None}, {'2': None}, {'3': None}, {'3': None}, {'1': 'S2'}, {'0': None}, {'0': None}, {'0': None}, {'0': None}, {'0': None}]\n",
      "[{'0': None}, {'2': None}, {'1': 'E'}, {'3': None}, {'1': 'B'}, {'3': None}, {'1': 'D'}, {'2': None}, {'3': None}, {'3': None}, {'0': None}, {'0': None}, {'0': None}, {'0': None}, {'0': None}, {'0': None}, {'0': None}, {'0': None}, {'0': None}, {'0': None}]\n",
      "[{'3': None}, {'0': None}, {'2': None}, {'1': 'S1'}, {'3': None}, {'0': None}, {'3': None}, {'3': None}, {'1': 'S2'}, {'1': 'B'}, {'2': None}, {'2': None}, {'1': 'E'}, {'3': None}, {'3': None}, {'1': 'S2'}, {'3': None}, {'3': None}, {'0': None}, {'0': None}]\n",
      "[{'3': None}, {'1': 'C'}, {'1': 'S1'}, {'2': None}, {'0': None}, {'1': 'S2'}, {'2': None}, {'0': None}, {'0': None}, {'0': None}, {'0': None}, {'0': None}, {'0': None}, {'0': None}, {'0': None}, {'0': None}, {'0': None}, {'0': None}, {'0': None}, {'0': None}]\n",
      "[{'2': None}, {'3': None}, {'1': 'E'}, {'2': None}, {'3': None}, {'3': None}, {'2': None}, {'3': None}, {'1': 'A'}, {'0': None}, {'2': None}, {'1': 'E'}, {'3': None}, {'2': None}, {'2': None}, {'3': None}, {'1': 'S1'}, {'3': None}, {'3': None}, {'0': None}]\n",
      "[{'2': None}, {'1': 'E'}, {'3': None}, {'2': None}, {'0': None}, {'0': None}, {'0': None}, {'0': None}, {'0': None}, {'0': None}, {'0': None}, {'0': None}, {'0': None}, {'0': None}, {'0': None}, {'0': None}, {'0': None}, {'0': None}, {'0': None}, {'0': None}]\n",
      "[{'3': None}, {'0': None}, {'0': None}, {'3': None}, {'2': None}, {'2': None}, {'2': None}, {'1': 'E'}, {'0': None}, {'2': None}, {'3': None}, {'0': None}, {'3': None}, {'2': None}, {'2': None}, {'0': None}, {'0': None}, {'0': None}, {'0': None}, {'0': None}]\n",
      "[{'0': None}, {'0': None}, {'2': None}, {'1': 'B'}, {'1': 'A'}, {'2': None}, {'2': None}, {'3': None}, {'2': None}, {'0': None}, {'2': None}, {'2': None}, {'2': None}, {'0': None}, {'3': None}, {'1': 'C'}, {'3': None}, {'0': None}, {'0': None}, {'0': None}]\n",
      "[{'2': None}, {'2': None}, {'1': 'D'}, {'2': None}, {'2': None}, {'2': None}, {'3': None}, {'0': None}, {'2': None}, {'2': None}, {'0': None}, {'0': None}, {'0': None}, {'0': None}, {'0': None}, {'0': None}, {'0': None}, {'0': None}, {'0': None}, {'0': None}]\n",
      "[{'0': None}, {'0': None}, {'0': None}, {'0': None}, {'2': None}, {'0': None}, {'0': None}, {'2': None}, {'3': None}, {'1': 'C'}, {'0': None}, {'1': 'D'}, {'3': None}, {'1': 'A'}, {'0': None}, {'2': None}, {'2': None}, {'3': None}, {'1': 'D'}, {'0': None}]\n",
      "[{'3': None}, {'1': 'D'}, {'0': None}, {'0': None}, {'2': None}, {'0': None}, {'3': None}, {'1': 'A'}, {'3': None}, {'1': 'S1'}, {'1': 'S1'}, {'1': 'D'}, {'2': None}, {'1': 'A'}, {'2': None}, {'0': None}, {'0': None}, {'0': None}, {'0': None}, {'0': None}]\n",
      "[{'0': None}, {'0': None}, {'2': None}, {'1': 'E'}, {'0': None}, {'1': 'B'}, {'3': None}, {'1': 'E'}, {'0': None}, {'0': None}, {'2': None}, {'2': None}, {'0': None}, {'3': None}, {'3': None}, {'1': 'C'}, {'0': None}, {'3': None}, {'0': None}, {'0': None}]\n",
      "[{'2': None}, {'2': None}, {'1': 'S1'}, {'1': 'B'}, {'0': None}, {'1': 'C'}, {'3': None}, {'3': None}, {'0': None}, {'0': None}, {'0': None}, {'3': None}, {'0': None}, {'0': None}, {'0': None}, {'0': None}, {'0': None}, {'0': None}, {'0': None}, {'0': None}]\n",
      "[{'2': None}, {'1': 'E'}, {'2': None}, {'2': None}, {'2': None}, {'2': None}, {'0': None}, {'3': None}, {'3': None}, {'0': None}, {'1': 'D'}, {'1': 'D'}, {'3': None}, {'3': None}, {'3': None}, {'2': None}, {'2': None}, {'3': None}, {'2': None}, {'3': None}]\n",
      "[{'2': None}, {'1': 'B'}, {'2': None}, {'1': 'A'}, {'0': None}, {'0': None}, {'0': None}, {'0': None}, {'0': None}, {'0': None}, {'0': None}, {'0': None}, {'0': None}, {'0': None}, {'0': None}, {'0': None}, {'0': None}, {'0': None}, {'0': None}, {'0': None}]\n"
     ]
    }
   ],
   "source": [
    "for vagon in population[0]:\n",
    "    print(vagon)"
   ]
  }
 ],
 "metadata": {
  "kernelspec": {
   "display_name": "dataAnalytics",
   "language": "python",
   "name": "python3"
  },
  "language_info": {
   "codemirror_mode": {
    "name": "ipython",
    "version": 3
   },
   "file_extension": ".py",
   "mimetype": "text/x-python",
   "name": "python",
   "nbconvert_exporter": "python",
   "pygments_lexer": "ipython3",
   "version": "3.10.9"
  },
  "orig_nbformat": 4
 },
 "nbformat": 4,
 "nbformat_minor": 2
}
