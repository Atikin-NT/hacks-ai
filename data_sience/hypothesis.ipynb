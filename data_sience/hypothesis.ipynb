{
 "cells": [
  {
   "cell_type": "code",
   "execution_count": 1,
   "metadata": {},
   "outputs": [],
   "source": [
    "import random\n",
    "import numpy as np\n",
    "from deap import base, creator, tools, algorithms\n",
    "import networkx as nx"
   ]
  },
  {
   "cell_type": "code",
   "execution_count": 2,
   "metadata": {},
   "outputs": [],
   "source": [
    "stations = ['A', 'B', 'C', 'D', 'E', 'S1', 'S2']\n",
    "transitions = {\n",
    "    'S1': ['A', 'B', 'C'],\n",
    "    'S2': ['A', 'B', 'C', 'D', 'E']\n",
    "}"
   ]
  },
  {
   "cell_type": "code",
   "execution_count": 3,
   "metadata": {},
   "outputs": [],
   "source": [
    "G = nx.Graph()\n",
    "\n",
    "for key, value in transitions.items():\n",
    "    for val in value:\n",
    "        G.add_edge(key, val)"
   ]
  },
  {
   "cell_type": "code",
   "execution_count": 4,
   "metadata": {},
   "outputs": [
    {
     "data": {
      "text/plain": [
       "{'S1': Text(-0.7017608099990026, -0.49296992287187025, 'S1'),\n",
       " 'A': Text(-0.6182501822804963, 0.19171727194767452, 'A'),\n",
       " 'B': Text(-0.03421880820305773, -0.6497085118622301, 'B'),\n",
       " 'C': Text(-0.2921951431132157, -0.21171547185568487, 'C'),\n",
       " 'S2': Text(0.19872308768631777, 0.13638949150490362, 'S2'),\n",
       " 'D': Text(0.9999999999999999, 0.12858750924647702, 'D'),\n",
       " 'E': Text(0.447701855909455, 0.8976996338907296, 'E')}"
      ]
     },
     "execution_count": 4,
     "metadata": {},
     "output_type": "execute_result"
    },
    {
     "data": {
      "image/png": "[encoded data removed]",
      "text/plain": [
       "<Figure size 640x480 with 1 Axes>"
      ]
     },
     "metadata": {},
     "output_type": "display_data"
    }
   ],
   "source": [
    "pos = nx.spring_layout(G, seed=1)\n",
    "nx.draw_networkx_nodes(G, pos, node_size=700)\n",
    "nx.draw_networkx_edges(G, pos, width=5)\n",
    "nx.draw_networkx_labels(G, pos, font_size=20, font_family=\"sans-serif\")"
   ]
  },
  {
   "cell_type": "code",
   "execution_count": 5,
   "metadata": {},
   "outputs": [],
   "source": [
    "vagon_type = ['A', 'B', 'C']\n",
    "lacomotive_type = ['S1', 'S2']\n",
    "\n",
    "start_situation_state = {\n",
    "    'A': [\n",
    "        vagon_type[0],\n",
    "        vagon_type[1],\n",
    "        vagon_type[0],\n",
    "        vagon_type[1],\n",
    "        vagon_type[1],\n",
    "        vagon_type[0],\n",
    "    ],\n",
    "    'B': [\n",
    "        vagon_type[1],\n",
    "        vagon_type[2],\n",
    "        vagon_type[1],\n",
    "    ],\n",
    "    'C': [\n",
    "        vagon_type[0],\n",
    "        vagon_type[1],\n",
    "        vagon_type[1],\n",
    "    ],\n",
    "    'D': [\n",
    "        vagon_type[0],\n",
    "        vagon_type[1],\n",
    "    ],\n",
    "    'E': [\n",
    "        vagon_type[1],\n",
    "        vagon_type[0],\n",
    "        vagon_type[0],\n",
    "    ],\n",
    "    'S1': [\n",
    "        lacomotive_type[0],\n",
    "    ],\n",
    "    'S2': [\n",
    "        lacomotive_type[1],\n",
    "    ],\n",
    "}"
   ]
  },
  {
   "cell_type": "code",
   "execution_count": 6,
   "metadata": {},
   "outputs": [],
   "source": [
    "# 0 - простой\n",
    "# 1 - перевести на другую ветку\n",
    "# 2 - присоединить вагон\n",
    "# 3 - отсоединить вагон\n",
    "\n",
    "operations_cost = [100, 10, 2, 2]"
   ]
  },
  {
   "cell_type": "code",
   "execution_count": 7,
   "metadata": {},
   "outputs": [],
   "source": [
    "VAGON_COUNT = 17\n",
    "MAX_OPERATIONS = 20\n",
    "LENGTH_CHROM = VAGON_COUNT * MAX_OPERATIONS     # длина хромосомы, подлежащей оптимизации\n",
    " \n",
    "# константы генетического алгоритма\n",
    "POPULATION_SIZE = 500   # количество индивидуумов в популяции\n",
    "P_CROSSOVER = 0.9       # вероятность скрещивания\n",
    "P_MUTATION = 0.1        # вероятность мутации индивидуума\n",
    "MAX_GENERATIONS = 30    # максимальное количество поколений"
   ]
  },
  {
   "cell_type": "code",
   "execution_count": 8,
   "metadata": {},
   "outputs": [],
   "source": [
    "RANDOM_SEED = 0\n",
    "random.seed(RANDOM_SEED)"
   ]
  },
  {
   "cell_type": "code",
   "execution_count": 9,
   "metadata": {},
   "outputs": [],
   "source": [
    "creator.create(\"FitnessMin\", base.Fitness, weights=(-1.0,))\n",
    "creator.create(\"Individual\", list, fitness=creator.FitnessMin)"
   ]
  },
  {
   "cell_type": "code",
   "execution_count": 10,
   "metadata": {},
   "outputs": [],
   "source": [
    "def create_random_list(max_range, count):\n",
    "    operations_count = random.randint(1, count)\n",
    "    r = []\n",
    "    for _ in range(count):\n",
    "        if operations_count > 0:\n",
    "            new_oper = random.randint(0, max_range)\n",
    "            if new_oper == 1:\n",
    "                state = random.choice(['A', 'B', 'C', 'D', 'E', 'S1', 'S2'])\n",
    "                r.append({f'{new_oper}': state})\n",
    "            else:\n",
    "                r.append({f'{new_oper}': None})\n",
    "        else:\n",
    "            r.append({'0': None})\n",
    "        operations_count -= 1\n",
    "    return r"
   ]
  },
  {
   "cell_type": "code",
   "execution_count": 11,
   "metadata": {},
   "outputs": [
    {
     "data": {
      "text/plain": [
       "[{'3': None},\n",
       " {'0': None},\n",
       " {'2': None},\n",
       " {'4': None},\n",
       " {'3': None},\n",
       " {'3': None},\n",
       " {'2': None},\n",
       " {'3': None},\n",
       " {'2': None},\n",
       " {'4': None},\n",
       " {'1': 'E'},\n",
       " {'1': 'C'},\n",
       " {'1': 'S2'},\n",
       " {'0': None},\n",
       " {'0': None},\n",
       " {'0': None},\n",
       " {'0': None},\n",
       " {'0': None},\n",
       " {'0': None},\n",
       " {'0': None}]"
      ]
     },
     "execution_count": 11,
     "metadata": {},
     "output_type": "execute_result"
    }
   ],
   "source": [
    "create_random_list(4, 20)"
   ]
  },
  {
   "cell_type": "code",
   "execution_count": 23,
   "metadata": {},
   "outputs": [],
   "source": [
    "toolbox = base.Toolbox()\n",
    "toolbox.register(\"randomOper\", create_random_list, len(operations_cost) - 1, MAX_OPERATIONS)\n",
    "toolbox.register(\"individualCreator\", tools.initRepeat, creator.Individual, toolbox.randomOper, VAGON_COUNT)\n",
    "toolbox.register(\"populationCreator\", tools.initRepeat, list, toolbox.individualCreator)"
   ]
  },
  {
   "cell_type": "code",
   "execution_count": 65,
   "metadata": {},
   "outputs": [],
   "source": [
    "population = toolbox.populationCreator(n=POPULATION_SIZE)"
   ]
  },
  {
   "cell_type": "code",
   "execution_count": 64,
   "metadata": {},
   "outputs": [],
   "source": [
    "def shedule_cost(individual):\n",
    "    current_cost = 0\n",
    "    for vagons in individual:\n",
    "        for curr_vagon in vagons:\n",
    "            is_in_lacomotive = 0\n",
    "            for key, val in curr_vagon.items():\n",
    "                if val in ['S1', 'S2']:\n",
    "                    is_in_lacomotive += 1\n",
    "                if is_in_lacomotive >= 2:\n",
    "                    current_cost += 0\n",
    "                else:\n",
    "                    current_cost += operations_cost[int(key)]\n",
    "    return current_cost,"
   ]
  },
  {
   "cell_type": "code",
   "execution_count": 15,
   "metadata": {},
   "outputs": [],
   "source": [
    "def mate(ind1, ind2):\n",
    "    ind1[:(VAGON_COUNT//2)], ind2[:(VAGON_COUNT//2)] = ind2[:(VAGON_COUNT//2)], ind1[:(VAGON_COUNT//2)]\n",
    "    return ind1, ind2"
   ]
  },
  {
   "cell_type": "code",
   "execution_count": 16,
   "metadata": {},
   "outputs": [],
   "source": [
    "def mut(individual, indpb):\n",
    "    for ind in individual:\n",
    "        tools.mutShuffleIndexes(ind, indpb)\n",
    " \n",
    "    return individual,"
   ]
  },
  {
   "cell_type": "code",
   "execution_count": 66,
   "metadata": {},
   "outputs": [],
   "source": [
    "toolbox.register(\"evaluate\", shedule_cost)\n",
    "toolbox.register(\"select\", tools.selTournament, tournsize=3)\n",
    "toolbox.register(\"mate\", mate)\n",
    "toolbox.register(\"mutate\", mut, indpb=1.0/LENGTH_CHROM/10)"
   ]
  },
  {
   "cell_type": "code",
   "execution_count": 36,
   "metadata": {},
   "outputs": [],
   "source": [
    "stats = tools.Statistics(lambda ind: ind.fitness.values)\n",
    "stats.register(\"min\", np.min)\n",
    "stats.register(\"avg\", np.mean)"
   ]
  },
  {
   "cell_type": "code",
   "execution_count": 67,
   "metadata": {},
   "outputs": [
    {
     "name": "stdout",
     "output_type": "stream",
     "text": [
      "gen\tnevals\tmin  \tavg    \n",
      "0  \t500   \t15722\t21279.7\n",
      "1  \t19    \t15722\t19986.7\n",
      "2  \t29    \t15722\t19015.1\n",
      "3  \t19    \t15722\t18133.6\n",
      "4  \t22    \t14910\t17473.2\n",
      "5  \t39    \t14666\t16741.7\n",
      "6  \t22    \t14666\t16048  \n",
      "7  \t28    \t14666\t15591.7\n",
      "8  \t34    \t14666\t15339.5\n",
      "9  \t40    \t14666\t15006.5\n",
      "10 \t31    \t14666\t14772.1\n",
      "11 \t21    \t14666\t14684.7\n",
      "12 \t40    \t14666\t14666.4\n",
      "13 \t25    \t14666\t14666  \n",
      "14 \t48    \t14666\t14666  \n",
      "15 \t31    \t14666\t14666  \n",
      "16 \t38    \t14666\t14666  \n",
      "17 \t39    \t14666\t14666  \n",
      "18 \t41    \t14666\t14666  \n",
      "19 \t23    \t14666\t14666  \n",
      "20 \t28    \t14666\t14666  \n",
      "21 \t32    \t14666\t14666  \n",
      "22 \t35    \t14666\t14666  \n",
      "23 \t29    \t14666\t14666  \n",
      "24 \t24    \t14666\t14666  \n",
      "25 \t33    \t14666\t14666  \n",
      "26 \t27    \t14666\t14666  \n",
      "27 \t47    \t14666\t14666  \n",
      "28 \t26    \t14666\t14666  \n",
      "29 \t37    \t14666\t14666  \n",
      "30 \t16    \t14666\t14666  \n"
     ]
    }
   ],
   "source": [
    "population, logbook = algorithms.eaSimple(population, toolbox,\n",
    "                                        cxpb=P_CROSSOVER/VAGON_COUNT,\n",
    "                                        mutpb=P_MUTATION/VAGON_COUNT,\n",
    "                                        ngen=MAX_GENERATIONS,\n",
    "                                        stats=stats,\n",
    "                                        verbose=True)"
   ]
  },
  {
   "cell_type": "code",
   "execution_count": 68,
   "metadata": {},
   "outputs": [],
   "source": [
    "maxFitnessValues, meanFitnessValues = logbook.select(\"min\", \"avg\")"
   ]
  },
  {
   "cell_type": "code",
   "execution_count": 69,
   "metadata": {},
   "outputs": [
    {
     "data": {
      "image/png": "[encoded data removed]",
      "text/plain": [
       "<Figure size 640x480 with 1 Axes>"
      ]
     },
     "metadata": {},
     "output_type": "display_data"
    }
   ],
   "source": [
    "import matplotlib.pyplot as plt\n",
    "\n",
    "plt.plot(maxFitnessValues, color='red')\n",
    "plt.plot(meanFitnessValues, color='green')\n",
    "plt.xlabel('Поколение')\n",
    "plt.ylabel('Макс/средняя приспособленность')\n",
    "plt.title('Зависимость максимальной и средней приспособленности от поколения')\n",
    " \n",
    "plt.show()"
   ]
  },
  {
   "cell_type": "code",
   "execution_count": 75,
   "metadata": {},
   "outputs": [
    {
     "name": "stdout",
     "output_type": "stream",
     "text": [
      "[{'1': 'B'}, {'1': 'A'}, {'0': None}, {'3': None}, {'2': None}, {'3': None}, {'0': None}, {'3': None}, {'1': 'D'}, {'1': 'A'}, {'1': 'C'}, {'0': None}, {'2': None}, {'3': None}, {'2': None}, {'0': None}, {'0': None}, {'0': None}, {'0': None}, {'0': None}]\n",
      "[{'2': None}, {'1': 'E'}, {'3': None}, {'1': 'S2'}, {'0': None}, {'0': None}, {'1': 'A'}, {'1': 'S1'}, {'2': None}, {'2': None}, {'2': None}, {'3': None}, {'3': None}, {'3': None}, {'2': None}, {'0': None}, {'0': None}, {'0': None}, {'0': None}, {'0': None}]\n",
      "[{'0': None}, {'3': None}, {'3': None}, {'2': None}, {'0': None}, {'3': None}, {'3': None}, {'2': None}, {'0': None}, {'1': 'D'}, {'0': None}, {'3': None}, {'0': None}, {'0': None}, {'0': None}, {'0': None}, {'0': None}, {'0': None}, {'0': None}, {'0': None}]\n",
      "[{'1': 'D'}, {'2': None}, {'1': 'C'}, {'3': None}, {'3': None}, {'1': 'E'}, {'2': None}, {'3': None}, {'0': None}, {'1': 'B'}, {'1': 'C'}, {'1': 'C'}, {'0': None}, {'0': None}, {'0': None}, {'0': None}, {'0': None}, {'0': None}, {'0': None}, {'0': None}]\n",
      "[{'1': 'B'}, {'0': None}, {'1': 'A'}, {'2': None}, {'2': None}, {'3': None}, {'2': None}, {'1': 'B'}, {'0': None}, {'1': 'B'}, {'3': None}, {'2': None}, {'2': None}, {'3': None}, {'3': None}, {'1': 'E'}, {'2': None}, {'1': 'S1'}, {'2': None}, {'0': None}]\n",
      "[{'2': None}, {'3': None}, {'2': None}, {'3': None}, {'2': None}, {'2': None}, {'0': None}, {'0': None}, {'0': None}, {'0': None}, {'0': None}, {'0': None}, {'0': None}, {'0': None}, {'0': None}, {'0': None}, {'0': None}, {'0': None}, {'0': None}, {'0': None}]\n",
      "[{'1': 'S1'}, {'1': 'C'}, {'1': 'S1'}, {'3': None}, {'3': None}, {'0': None}, {'0': None}, {'0': None}, {'0': None}, {'0': None}, {'0': None}, {'0': None}, {'0': None}, {'0': None}, {'0': None}, {'0': None}, {'0': None}, {'0': None}, {'0': None}, {'0': None}]\n",
      "[{'0': None}, {'2': None}, {'1': 'B'}, {'1': 'S1'}, {'2': None}, {'3': None}, {'2': None}, {'3': None}, {'1': 'S2'}, {'1': 'S2'}, {'0': None}, {'0': None}, {'0': None}, {'2': None}, {'3': None}, {'2': None}, {'2': None}, {'0': None}, {'3': None}, {'0': None}]\n",
      "[{'3': None}, {'0': None}, {'0': None}, {'0': None}, {'2': None}, {'0': None}, {'0': None}, {'1': 'S1'}, {'2': None}, {'1': 'D'}, {'1': 'A'}, {'2': None}, {'1': 'E'}, {'3': None}, {'0': None}, {'1': 'D'}, {'3': None}, {'0': None}, {'0': None}, {'0': None}]\n",
      "[{'3': None}, {'1': 'S2'}, {'3': None}, {'2': None}, {'2': None}, {'3': None}, {'0': None}, {'3': None}, {'0': None}, {'0': None}, {'1': 'D'}, {'0': None}, {'2': None}, {'1': 'A'}, {'1': 'S1'}, {'0': None}, {'3': None}, {'1': 'C'}, {'1': 'E'}, {'0': None}]\n",
      "[{'1': 'E'}, {'3': None}, {'2': None}, {'2': None}, {'0': None}, {'2': None}, {'0': None}, {'1': 'S1'}, {'3': None}, {'1': 'C'}, {'2': None}, {'1': 'E'}, {'3': None}, {'0': None}, {'3': None}, {'2': None}, {'2': None}, {'1': 'B'}, {'2': None}, {'2': None}]\n",
      "[{'1': 'S1'}, {'1': 'C'}, {'3': None}, {'0': None}, {'3': None}, {'1': 'A'}, {'2': None}, {'1': 'S1'}, {'1': 'B'}, {'1': 'S1'}, {'0': None}, {'3': None}, {'0': None}, {'2': None}, {'1': 'S1'}, {'0': None}, {'0': None}, {'1': 'S1'}, {'3': None}, {'0': None}]\n",
      "[{'0': None}, {'3': None}, {'1': 'B'}, {'2': None}, {'0': None}, {'0': None}, {'0': None}, {'0': None}, {'0': None}, {'0': None}, {'0': None}, {'0': None}, {'0': None}, {'0': None}, {'0': None}, {'0': None}, {'0': None}, {'0': None}, {'0': None}, {'0': None}]\n",
      "[{'2': None}, {'0': None}, {'2': None}, {'2': None}, {'0': None}, {'0': None}, {'2': None}, {'2': None}, {'3': None}, {'0': None}, {'2': None}, {'3': None}, {'3': None}, {'0': None}, {'2': None}, {'2': None}, {'2': None}, {'3': None}, {'0': None}, {'0': None}]\n",
      "[{'1': 'D'}, {'3': None}, {'3': None}, {'0': None}, {'3': None}, {'3': None}, {'2': None}, {'0': None}, {'2': None}, {'3': None}, {'2': None}, {'0': None}, {'1': 'S1'}, {'1': 'B'}, {'3': None}, {'3': None}, {'1': 'D'}, {'1': 'A'}, {'3': None}, {'0': None}]\n",
      "[{'1': 'A'}, {'1': 'C'}, {'3': None}, {'3': None}, {'1': 'E'}, {'0': None}, {'0': None}, {'0': None}, {'0': None}, {'2': None}, {'3': None}, {'2': None}, {'3': None}, {'1': 'D'}, {'3': None}, {'0': None}, {'1': 'E'}, {'0': None}, {'0': None}, {'1': 'S2'}]\n",
      "[{'2': None}, {'1': 'B'}, {'2': None}, {'1': 'A'}, {'1': 'S2'}, {'2': None}, {'0': None}, {'3': None}, {'3': None}, {'2': None}, {'3': None}, {'1': 'S1'}, {'2': None}, {'3': None}, {'1': 'A'}, {'3': None}, {'2': None}, {'0': None}, {'0': None}, {'0': None}]\n"
     ]
    }
   ],
   "source": [
    "for vagon in population[0]:\n",
    "    print(vagon)"
   ]
  }
 ],
 "metadata": {
  "kernelspec": {
   "display_name": "dataAnalytics",
   "language": "python",
   "name": "python3"
  },
  "language_info": {
   "codemirror_mode": {
    "name": "ipython",
    "version": 3
   },
   "file_extension": ".py",
   "mimetype": "text/x-python",
   "name": "python",
   "nbconvert_exporter": "python",
   "pygments_lexer": "ipython3",
   "version": "3.10.9"
  },
  "orig_nbformat": 4
 },
 "nbformat": 4,
 "nbformat_minor": 2
}
