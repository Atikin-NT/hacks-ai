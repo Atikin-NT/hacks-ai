{
 "cells": [
  {
   "cell_type": "code",
   "execution_count": 878,
   "metadata": {},
   "outputs": [],
   "source": [
    "import random\n",
    "import numpy as np\n",
    "from deap import base, creator, tools, algorithms\n",
    "import networkx as nx\n",
    "import matplotlib.pyplot as plt\n",
    "import copy\n",
    "import elitism\n",
    "import json"
   ]
  },
  {
   "cell_type": "code",
   "execution_count": 879,
   "metadata": {},
   "outputs": [
    {
     "data": {
      "text/plain": [
       "{'stations': {'Златоуст (1)': ['0', '38', '38', '25'],\n",
       "  'Кыштым (2)': ['26', '0', '7', '34'],\n",
       "  'Миасс (3)': ['15', '5', '0', '27'],\n",
       "  'Муслюмово (4)': ['12', '39', '1', '0']},\n",
       " 'full_timetable': {'1': {'route': ['1', '3', '2'],\n",
       "   'free_carriage': ['21', '21'],\n",
       "   'timetable': ['02:00 - 02:38', '04:48 - 06:11', '13:35 - 13:58']},\n",
       "  '2': {'route': ['2', '3'],\n",
       "   'free_carriage': ['10'],\n",
       "   'timetable': ['02:00 - 02:40', '04:44 - 06:09']}}}"
      ]
     },
     "execution_count": 879,
     "metadata": {},
     "output_type": "execute_result"
    }
   ],
   "source": [
    "with open('./data.json', 'r') as file:\n",
    "    data = json.load(file)\n",
    "data = data[0]\n",
    "data"
   ]
  },
  {
   "cell_type": "code",
   "execution_count": 880,
   "metadata": {},
   "outputs": [
    {
     "data": {
      "text/plain": [
       "[[0, 38, 38, 25], [26, 0, 7, 34], [15, 5, 0, 27], [12, 39, 1, 0]]"
      ]
     },
     "execution_count": 880,
     "metadata": {},
     "output_type": "execute_result"
    }
   ],
   "source": [
    "stations = [list(map(int, x)) for x in data['stations'].values()]\n",
    "stations"
   ]
  },
  {
   "cell_type": "code",
   "execution_count": 881,
   "metadata": {},
   "outputs": [
    {
     "data": {
      "text/plain": [
       "[{'route': ['1', '3', '2'],\n",
       "  'free_carriage': ['21', '21'],\n",
       "  'timetable': ['02:00 - 02:38', '04:48 - 06:11', '13:35 - 13:58']},\n",
       " {'route': ['2', '3'],\n",
       "  'free_carriage': ['10'],\n",
       "  'timetable': ['02:00 - 02:40', '04:44 - 06:09']}]"
      ]
     },
     "execution_count": 881,
     "metadata": {},
     "output_type": "execute_result"
    }
   ],
   "source": [
    "trains = [x for x in data['full_timetable'].values()]\n",
    "trains"
   ]
  },
  {
   "cell_type": "code",
   "execution_count": 882,
   "metadata": {},
   "outputs": [],
   "source": [
    "for train in trains:\n",
    "    train['free_carriage'].append(0)"
   ]
  },
  {
   "cell_type": "code",
   "execution_count": 883,
   "metadata": {},
   "outputs": [],
   "source": [
    "timetable = ['02:44 - 03:14',\n",
    "   '05:24 - 05:56',\n",
    "   '09:34 - 11:00',\n",
    "   '12:22 - 13:05',\n",
    "   '23:43 - 00:34']"
   ]
  },
  {
   "cell_type": "code",
   "execution_count": 884,
   "metadata": {},
   "outputs": [],
   "source": [
    "def convert_train_to_time_list(train_list):\n",
    "    train_by_time = []\n",
    "    for train_id in range(len(train_list)):\n",
    "        time_list = train_list[train_id]['timetable']\n",
    "\n",
    "        for i, time in enumerate(time_list):\n",
    "            before_after = time.split('-')  # [05:24, 05:56]\n",
    "\n",
    "            for j, rout_part in enumerate(before_after):\n",
    "                free_carriage = int(train_list[train_id]['free_carriage'][i]) if j == 1 else None\n",
    "                free_carriage = None if free_carriage == 0 else free_carriage\n",
    "                hour, minut = [int(x) for x in rout_part.split(':')]\n",
    "                new_t = hour * 100 + minut\n",
    "                if i > 0 and train_by_time[-1]['time'] > new_t:\n",
    "                    new_t *= 1000\n",
    "                \n",
    "                train_by_time.append({\n",
    "                    'id': train_id, \n",
    "                    'time': new_t,\n",
    "                    'st': int(train_list[train_id]['route'][i]), \n",
    "                    'free_carriage': free_carriage\n",
    "                })\n",
    "    return train_by_time"
   ]
  },
  {
   "cell_type": "code",
   "execution_count": 885,
   "metadata": {},
   "outputs": [
    {
     "data": {
      "text/plain": [
       "[{'id': 0,\n",
       "  'time': 200,\n",
       "  'st': 1,\n",
       "  'free_carriage': None,\n",
       "  'onboard': [0, 0, 0, 0]},\n",
       " {'id': 1,\n",
       "  'time': 200,\n",
       "  'st': 2,\n",
       "  'free_carriage': None,\n",
       "  'onboard': [0, 0, 0, 0]},\n",
       " {'id': 0, 'time': 238, 'st': 1, 'free_carriage': 21, 'onboard': [0, 0, 0, 0]},\n",
       " {'id': 1, 'time': 240, 'st': 2, 'free_carriage': 10, 'onboard': [0, 0, 0, 0]},\n",
       " {'id': 1,\n",
       "  'time': 444,\n",
       "  'st': 3,\n",
       "  'free_carriage': None,\n",
       "  'onboard': [0, 0, 0, 0]},\n",
       " {'id': 0,\n",
       "  'time': 448,\n",
       "  'st': 3,\n",
       "  'free_carriage': None,\n",
       "  'onboard': [0, 0, 0, 0]},\n",
       " {'id': 1,\n",
       "  'time': 609,\n",
       "  'st': 3,\n",
       "  'free_carriage': None,\n",
       "  'onboard': [0, 0, 0, 0]},\n",
       " {'id': 0, 'time': 611, 'st': 3, 'free_carriage': 21, 'onboard': [0, 0, 0, 0]},\n",
       " {'id': 0,\n",
       "  'time': 1335,\n",
       "  'st': 2,\n",
       "  'free_carriage': None,\n",
       "  'onboard': [0, 0, 0, 0]},\n",
       " {'id': 0,\n",
       "  'time': 1358,\n",
       "  'st': 2,\n",
       "  'free_carriage': None,\n",
       "  'onboard': [0, 0, 0, 0]}]"
      ]
     },
     "execution_count": 885,
     "metadata": {},
     "output_type": "execute_result"
    }
   ],
   "source": [
    "train_to_time = convert_train_to_time_list(trains)\n",
    "train_to_time = sorted(train_to_time, key = lambda x: x['time'])\n",
    "train_to_time"
   ]
  },
  {
   "cell_type": "code",
   "execution_count": 1,
   "metadata": {},
   "outputs": [
    {
     "ename": "NameError",
     "evalue": "name 'data' is not defined",
     "output_type": "error",
     "traceback": [
      "\u001b[0;31m---------------------------------------------------------------------------\u001b[0m",
      "\u001b[0;31mNameError\u001b[0m                                 Traceback (most recent call last)",
      "\u001b[1;32m/home/atikin/Programming/hackatons/hacks-ai/data_sience/hypothesis_3.ipynb Cell 9\u001b[0m line \u001b[0;36m1\n\u001b[0;32m----> <a href='vscode-notebook-cell:/home/atikin/Programming/hackatons/hacks-ai/data_sience/hypothesis_3.ipynb#X40sZmlsZQ%3D%3D?line=0'>1</a>\u001b[0m train_onboard \u001b[39m=\u001b[39m [[\u001b[39m0\u001b[39m] \u001b[39m*\u001b[39m \u001b[39mlen\u001b[39m(stations) \u001b[39mfor\u001b[39;00m _ \u001b[39min\u001b[39;00m \u001b[39mrange\u001b[39m(\u001b[39mlen\u001b[39m(data[\u001b[39m'\u001b[39m\u001b[39mfull_timetable\u001b[39m\u001b[39m'\u001b[39m]))]\n",
      "\u001b[0;31mNameError\u001b[0m: name 'data' is not defined"
     ]
    }
   ],
   "source": [
    "train_onboard = [[0] * len(stations) for _ in range(len(data['full_timetable']))]"
   ]
  },
  {
   "cell_type": "code",
   "execution_count": 886,
   "metadata": {},
   "outputs": [
    {
     "data": {
      "text/plain": [
       "21"
      ]
     },
     "execution_count": 886,
     "metadata": {},
     "output_type": "execute_result"
    }
   ],
   "source": [
    "HROM_LENGHT = sum([1 for x in train_to_time if x['free_carriage'] is not None])\n",
    "\n",
    "# константы генетического алгоритма\n",
    "POPULATION_SIZE = 700   # количество индивидуумов в популяции\n",
    "P_CROSSOVER = 0.9       # вероятность скрещивания\n",
    "P_MUTATION = 0.2        # вероятность мутации индивидуума\n",
    "MAX_GENERATIONS = 200    # максимальное количество поколений\n",
    "HALL_OF_FAME_SIZE = 10\n",
    "INDIVID_SIZE = 4\n",
    "\n",
    "MAX_INDIVID = max([int(y) for x in [i['free_carriage'] for i in trains] for y in x])\n",
    "MAX_INDIVID"
   ]
  },
  {
   "cell_type": "code",
   "execution_count": 887,
   "metadata": {},
   "outputs": [],
   "source": [
    "RANDOM_SEED = 42\n",
    "random.seed(RANDOM_SEED)"
   ]
  },
  {
   "cell_type": "code",
   "execution_count": 888,
   "metadata": {},
   "outputs": [],
   "source": [
    "creator.create(\"FitnessMin\", base.Fitness, weights=(-1.0,))\n",
    "creator.create(\"Individual\", list, fitness=creator.FitnessMin)"
   ]
  },
  {
   "cell_type": "code",
   "execution_count": 889,
   "metadata": {},
   "outputs": [],
   "source": [
    "def create_individ(max_size, count):\n",
    "    res = []\n",
    "    for _ in range(count):\n",
    "        tmp = [random.randint(0, MAX_INDIVID) for _ in range(max_size)]\n",
    "        i = 0\n",
    "        while sum(tmp) > 21 and i != len(tmp):\n",
    "            tmp[i] = 0\n",
    "            i += 1\n",
    "        random.shuffle(tmp)\n",
    "        res += tmp\n",
    "    return creator.Individual(res)"
   ]
  },
  {
   "cell_type": "code",
   "execution_count": 890,
   "metadata": {},
   "outputs": [
    {
     "data": {
      "text/plain": [
       "[0, 3, 0, 7, 7, 4, 0, 17, 2, 0, 2, 1]"
      ]
     },
     "execution_count": 890,
     "metadata": {},
     "output_type": "execute_result"
    }
   ],
   "source": [
    "create_individ(HROM_LENGHT ,INDIVID_SIZE)"
   ]
  },
  {
   "cell_type": "code",
   "execution_count": 891,
   "metadata": {},
   "outputs": [],
   "source": [
    "toolbox = base.Toolbox()\n",
    "# toolbox.register(\"randomOper\", create_individ, INDIVID_SIZE)\n",
    "toolbox.register(\"individualCreator\", create_individ, HROM_LENGHT, INDIVID_SIZE)\n",
    "toolbox.register(\"populationCreator\", tools.initRepeat, list, toolbox.individualCreator)"
   ]
  },
  {
   "cell_type": "code",
   "execution_count": 892,
   "metadata": {},
   "outputs": [
    {
     "data": {
      "text/plain": [
       "[19, 0, 0, 13, 0, 0, 0, 8, 0, 4, 8, 0]"
      ]
     },
     "execution_count": 892,
     "metadata": {},
     "output_type": "execute_result"
    }
   ],
   "source": [
    "population = toolbox.populationCreator(n=POPULATION_SIZE)\n",
    "population[0]"
   ]
  },
  {
   "cell_type": "code",
   "execution_count": 893,
   "metadata": {},
   "outputs": [],
   "source": [
    "PENALTY_COST = 200\n",
    "\n",
    "def shedule_cost(individual):\n",
    "    tmp_stations = copy.deepcopy(stations)\n",
    "    train_to_time_new = copy.deepcopy(train_to_time)\n",
    "    current_cost = 0\n",
    "    hrom_index = 0\n",
    "    penalty_count = 0\n",
    "    # print(individual)\n",
    "\n",
    "    for time, train in enumerate(train_to_time_new):\n",
    "        train_station = train['st'] - 1\n",
    "        vagon_to_move = 0\n",
    "        for vagon_id in range(len(tmp_stations)):\n",
    "            if train['free_carriage'] is None:  # это мы приехали на станцию\n",
    "                tmp_stations[train_station][vagon_id] += train['onboard'][vagon_id]\n",
    "                train['onboard'][vagon_id] = 0\n",
    "            else:  # уехали со станции\n",
    "                tmp_stations[train_station][vagon_id] -= individual[hrom_index]\n",
    "                train['onboard'][vagon_id] = individual[hrom_index]\n",
    "\n",
    "                if tmp_stations[train_station][vagon_id] < 0: # если меньше нуля, то корректируем текущее состояние \n",
    "                    train['onboard'][vagon_id] = 0 - tmp_stations[train_station][vagon_id]\n",
    "                    tmp_stations[train_station][vagon_id] = 0\n",
    "                    penalty_count += 1\n",
    "                \n",
    "                vagon_to_move += individual[hrom_index]\n",
    "                hrom_index += 1\n",
    "\n",
    "        if train['free_carriage'] is not None:\n",
    "            # hrom_index += 1\n",
    "            if hrom_index >= len(individual):\n",
    "                hrom_index = len(individual) - 1\n",
    "            if vagon_to_move > train['free_carriage']:\n",
    "                penalty_count += 1\n",
    "    \n",
    "    for state in tmp_stations:\n",
    "        # print(state)\n",
    "        current_cost += sum(state)\n",
    "\n",
    "    current_cost += penalty_count * PENALTY_COST\n",
    "    return current_cost,"
   ]
  },
  {
   "cell_type": "code",
   "execution_count": 894,
   "metadata": {},
   "outputs": [
    {
     "data": {
      "text/plain": [
       "(842,)"
      ]
     },
     "execution_count": 894,
     "metadata": {},
     "output_type": "execute_result"
    }
   ],
   "source": [
    "shedule_cost(population[0])"
   ]
  },
  {
   "cell_type": "code",
   "execution_count": 895,
   "metadata": {},
   "outputs": [],
   "source": [
    "def mate(ind1, ind2):\n",
    "    ind1, ind2 = tools.cxTwoPoint(ind1, ind2)\n",
    "    return ind1, ind2"
   ]
  },
  {
   "cell_type": "code",
   "execution_count": 896,
   "metadata": {},
   "outputs": [],
   "source": [
    "def mut(individual, indpb):           \n",
    "    individual = tools.mutShuffleIndexes(individual, indpb)\n",
    "    return individual,"
   ]
  },
  {
   "cell_type": "code",
   "execution_count": 897,
   "metadata": {},
   "outputs": [],
   "source": [
    "toolbox.register(\"evaluate\", shedule_cost)\n",
    "toolbox.register(\"select\", tools.selTournament, tournsize=2)\n",
    "toolbox.register(\"mate\", tools.cxTwoPoint)\n",
    "toolbox.register(\"mutate\", tools.mutShuffleIndexes, indpb=1.0/HROM_LENGHT)"
   ]
  },
  {
   "cell_type": "code",
   "execution_count": 898,
   "metadata": {},
   "outputs": [],
   "source": [
    "hof = tools.HallOfFame(HALL_OF_FAME_SIZE)"
   ]
  },
  {
   "cell_type": "code",
   "execution_count": 899,
   "metadata": {},
   "outputs": [],
   "source": [
    "stats = tools.Statistics(lambda ind: ind.fitness.values)\n",
    "stats.register(\"min\", np.min)\n",
    "stats.register(\"avg\", np.mean)"
   ]
  },
  {
   "cell_type": "code",
   "execution_count": 900,
   "metadata": {},
   "outputs": [
    {
     "name": "stdout",
     "output_type": "stream",
     "text": [
      "gen\tnevals\tmin\tavg    \n",
      "0  \t700   \t236\t1004.15\n",
      "1  \t627   \t229\t876.186\n",
      "2  \t631   \t216\t768.459\n",
      "3  \t629   \t216\t662.516\n",
      "4  \t642   \t216\t581.654\n",
      "5  \t633   \t216\t514.939\n",
      "6  \t631   \t216\t465.37 \n",
      "7  \t641   \t216\t422.041\n",
      "8  \t638   \t216\t396.29 \n",
      "9  \t632   \t216\t372.361\n",
      "10 \t620   \t216\t348.734\n",
      "11 \t652   \t216\t337.816\n",
      "12 \t633   \t216\t338.924\n",
      "13 \t645   \t216\t335.364\n",
      "14 \t635   \t215\t335.566\n",
      "15 \t636   \t215\t331.439\n"
     ]
    },
    {
     "name": "stdout",
     "output_type": "stream",
     "text": [
      "16 \t625   \t215\t324.59 \n",
      "17 \t644   \t215\t343.081\n",
      "18 \t643   \t215\t340.763\n",
      "19 \t643   \t215\t332.976\n",
      "20 \t608   \t215\t333.159\n",
      "21 \t644   \t215\t339.75 \n",
      "22 \t629   \t215\t340.967\n",
      "23 \t631   \t215\t345.019\n",
      "24 \t641   \t215\t333.586\n",
      "25 \t633   \t215\t337.626\n",
      "26 \t632   \t215\t333.053\n",
      "27 \t638   \t215\t325.791\n",
      "28 \t630   \t215\t320.254\n",
      "29 \t620   \t215\t341.594\n",
      "30 \t625   \t215\t336.71 \n",
      "31 \t642   \t215\t335.74 \n",
      "32 \t643   \t215\t327.496\n",
      "33 \t618   \t215\t334.291\n",
      "34 \t622   \t215\t336.573\n",
      "35 \t593   \t215\t330.403\n",
      "36 \t638   \t215\t333.131\n",
      "37 \t636   \t215\t341.62 \n",
      "38 \t638   \t215\t342.169\n",
      "39 \t626   \t215\t328.48 \n",
      "40 \t634   \t215\t332.981\n",
      "41 \t641   \t215\t324.66 \n",
      "42 \t630   \t215\t317.331\n",
      "43 \t636   \t215\t318.883\n",
      "44 \t641   \t215\t322.71 \n",
      "45 \t652   \t215\t329.271\n",
      "46 \t638   \t215\t315.669\n",
      "47 \t632   \t215\t329.314\n",
      "48 \t633   \t215\t336.631\n",
      "49 \t638   \t215\t331.333\n",
      "50 \t643   \t215\t339.301\n",
      "51 \t637   \t215\t312.577\n",
      "52 \t626   \t215\t318.099\n",
      "53 \t629   \t215\t330.499\n",
      "54 \t636   \t215\t336.054\n",
      "55 \t630   \t215\t313.016\n",
      "56 \t642   \t215\t323.459\n",
      "57 \t630   \t215\t301.223\n",
      "58 \t633   \t215\t309.63 \n",
      "59 \t627   \t215\t312.933\n",
      "60 \t644   \t215\t321.409\n",
      "61 \t624   \t215\t312.297\n",
      "62 \t630   \t215\t304.163\n",
      "63 \t640   \t215\t316.144\n",
      "64 \t610   \t215\t299.51 \n",
      "65 \t633   \t215\t305.351\n",
      "66 \t644   \t215\t320.411\n",
      "67 \t638   \t215\t326.817\n",
      "68 \t618   \t215\t312.989\n",
      "69 \t617   \t215\t315.243\n",
      "70 \t638   \t215\t301.196\n",
      "71 \t634   \t215\t311.824\n",
      "72 \t632   \t215\t314.436\n",
      "73 \t643   \t215\t326.286\n",
      "74 \t635   \t215\t310.686\n",
      "75 \t635   \t215\t312.244\n",
      "76 \t638   \t215\t312.53 \n",
      "77 \t615   \t215\t307.526\n",
      "78 \t621   \t215\t306.201\n",
      "79 \t650   \t215\t310.796\n",
      "80 \t636   \t215\t304.27 \n",
      "81 \t616   \t215\t305.637\n",
      "82 \t621   \t215\t320.826\n",
      "83 \t641   \t215\t318.821\n",
      "84 \t651   \t215\t324.746\n",
      "85 \t623   \t215\t312.964\n",
      "86 \t636   \t215\t320.984\n",
      "87 \t614   \t215\t314.57 \n",
      "88 \t637   \t215\t312.067\n",
      "89 \t639   \t215\t323.764\n",
      "90 \t632   \t215\t311.581\n",
      "91 \t639   \t215\t327.107\n",
      "92 \t638   \t215\t314.021\n",
      "93 \t648   \t215\t308.059\n",
      "94 \t651   \t215\t314.661\n",
      "95 \t632   \t215\t315.033\n",
      "96 \t637   \t215\t313.466\n",
      "97 \t632   \t215\t318.339\n",
      "98 \t621   \t215\t305.651\n",
      "99 \t628   \t215\t325.191\n",
      "100\t643   \t215\t323.763\n",
      "101\t629   \t215\t303.18 \n",
      "102\t634   \t215\t310.927\n",
      "103\t616   \t215\t321.381\n",
      "104\t636   \t215\t315.277\n",
      "105\t632   \t215\t310.121\n",
      "106\t629   \t215\t331.553\n",
      "107\t636   \t215\t328.677\n",
      "108\t628   \t215\t328.501\n",
      "109\t636   \t215\t313.147\n",
      "110\t636   \t215\t313.057\n",
      "111\t644   \t215\t312.98 \n",
      "112\t625   \t215\t302.783\n",
      "113\t633   \t215\t315.424\n",
      "114\t608   \t215\t307.507\n",
      "115\t646   \t215\t319.897\n",
      "116\t643   \t215\t317.859\n",
      "117\t620   \t215\t313.686\n",
      "118\t634   \t215\t324.401\n",
      "119\t656   \t215\t309.723\n",
      "120\t646   \t215\t317.849\n",
      "121\t630   \t215\t318.861\n",
      "122\t632   \t215\t319.244\n",
      "123\t634   \t215\t303.569\n",
      "124\t624   \t215\t304.48 \n",
      "125\t633   \t215\t322.68 \n",
      "126\t654   \t215\t328.16 \n",
      "127\t629   \t215\t311.324\n",
      "128\t619   \t215\t312.304\n",
      "129\t640   \t215\t308.319\n",
      "130\t647   \t215\t333.486\n",
      "131\t632   \t215\t321.173\n",
      "132\t642   \t215\t313.329\n",
      "133\t606   \t215\t302.134\n",
      "134\t635   \t215\t306.324\n",
      "135\t631   \t215\t322.969\n",
      "136\t632   \t215\t311.756\n",
      "137\t620   \t215\t319.297\n",
      "138\t657   \t215\t300.974\n",
      "139\t628   \t215\t314.009\n",
      "140\t646   \t215\t332.83 \n",
      "141\t626   \t215\t315.116\n",
      "142\t633   \t215\t319.661\n",
      "143\t630   \t215\t302.017\n",
      "144\t628   \t215\t306.771\n",
      "145\t645   \t215\t309.709\n",
      "146\t631   \t215\t302.829\n",
      "147\t638   \t215\t306.497\n",
      "148\t626   \t215\t309.469\n",
      "149\t635   \t215\t313.633\n",
      "150\t627   \t215\t316.533\n",
      "151\t634   \t215\t322.23 \n",
      "152\t638   \t215\t324.063\n",
      "153\t631   \t215\t308.477\n",
      "154\t645   \t215\t314.909\n",
      "155\t637   \t215\t317.321\n",
      "156\t617   \t215\t315.596\n",
      "157\t639   \t215\t313.983\n",
      "158\t641   \t215\t312.83 \n",
      "159\t638   \t215\t311.603\n",
      "160\t637   \t215\t332.546\n",
      "161\t637   \t215\t325.65 \n",
      "162\t633   \t215\t335.451\n",
      "163\t642   \t215\t329.14 \n",
      "164\t630   \t215\t310.694\n",
      "165\t617   \t215\t325.809\n",
      "166\t636   \t215\t325.467\n",
      "167\t636   \t215\t306.451\n",
      "168\t626   \t215\t306.616\n",
      "169\t638   \t215\t320.743\n",
      "170\t651   \t215\t326.72 \n",
      "171\t625   \t215\t309.437\n",
      "172\t639   \t215\t300.2  \n",
      "173\t637   \t215\t316.444\n",
      "174\t639   \t215\t320.549\n",
      "175\t644   \t215\t303.283\n",
      "176\t649   \t215\t309.987\n",
      "177\t650   \t215\t319.809\n",
      "178\t637   \t215\t323.963\n",
      "179\t637   \t215\t329.967\n",
      "180\t619   \t215\t308.376\n",
      "181\t654   \t215\t315.94 \n",
      "182\t642   \t215\t316.654\n",
      "183\t651   \t215\t316.523\n",
      "184\t641   \t215\t317.396\n",
      "185\t637   \t215\t321.634\n",
      "186\t625   \t215\t315.52 \n",
      "187\t638   \t215\t315.486\n",
      "188\t649   \t215\t313.974\n",
      "189\t627   \t215\t301.824\n",
      "190\t647   \t215\t305.984\n",
      "191\t633   \t215\t317.226\n",
      "192\t633   \t215\t316.343\n",
      "193\t609   \t215\t315.433\n",
      "194\t643   \t215\t307.646\n",
      "195\t645   \t215\t314.453\n",
      "196\t617   \t215\t322.691\n",
      "197\t644   \t215\t313.107\n",
      "198\t636   \t215\t302.837\n",
      "199\t641   \t215\t312.997\n",
      "200\t630   \t215\t307.649\n"
     ]
    }
   ],
   "source": [
    "population, logbook = elitism.eaSimpleWithElitism(population, toolbox,\n",
    "                                        cxpb=P_CROSSOVER,\n",
    "                                        mutpb=P_MUTATION,\n",
    "                                        ngen=MAX_GENERATIONS,\n",
    "                                        halloffame=hof,\n",
    "                                        stats=stats,\n",
    "                                        verbose=True)"
   ]
  },
  {
   "cell_type": "code",
   "execution_count": 901,
   "metadata": {},
   "outputs": [],
   "source": [
    "maxFitnessValues, meanFitnessValues = logbook.select(\"min\", \"avg\")"
   ]
  },
  {
   "cell_type": "code",
   "execution_count": 902,
   "metadata": {},
   "outputs": [
    {
     "data": {
      "image/png": "[encoded data removed]",
      "text/plain": [
       "<Figure size 640x480 with 1 Axes>"
      ]
     },
     "metadata": {},
     "output_type": "display_data"
    }
   ],
   "source": [
    "plt.plot(maxFitnessValues, color='red')\n",
    "plt.plot(meanFitnessValues, color='green')\n",
    "plt.xlabel('Поколение')\n",
    "plt.ylabel('Макс/средняя приспособленность')\n",
    "plt.title('Зависимость максимальной и средней приспособленности от поколения')\n",
    " \n",
    "plt.show()"
   ]
  },
  {
   "cell_type": "code",
   "execution_count": 903,
   "metadata": {},
   "outputs": [
    {
     "data": {
      "text/plain": [
       "[0, 10, 11, 0, 0, 0, 0, 10, 4, 0, 0, 17]"
      ]
     },
     "execution_count": 903,
     "metadata": {},
     "output_type": "execute_result"
    }
   ],
   "source": [
    "best_shedule = hof.items[0]\n",
    "best_shedule"
   ]
  },
  {
   "cell_type": "code",
   "execution_count": 904,
   "metadata": {},
   "outputs": [
    {
     "name": "stdout",
     "output_type": "stream",
     "text": [
      "10\n",
      "0\n",
      "0\n",
      "10\n",
      "0\n",
      "17\n"
     ]
    }
   ],
   "source": [
    "for i in range(1, len(best_shedule), 2):\n",
    "    print(best_shedule[i])"
   ]
  },
  {
   "cell_type": "code",
   "execution_count": 905,
   "metadata": {},
   "outputs": [
    {
     "data": {
      "text/plain": [
       "(215,)"
      ]
     },
     "execution_count": 905,
     "metadata": {},
     "output_type": "execute_result"
    }
   ],
   "source": [
    "shedule_cost(best_shedule)"
   ]
  }
 ],
 "metadata": {
  "kernelspec": {
   "display_name": "dataAnalytics",
   "language": "python",
   "name": "python3"
  },
  "language_info": {
   "codemirror_mode": {
    "name": "ipython",
    "version": 3
   },
   "file_extension": ".py",
   "mimetype": "text/x-python",
   "name": "python",
   "nbconvert_exporter": "python",
   "pygments_lexer": "ipython3",
   "version": "3.10.9"
  },
  "orig_nbformat": 4
 },
 "nbformat": 4,
 "nbformat_minor": 2
}
